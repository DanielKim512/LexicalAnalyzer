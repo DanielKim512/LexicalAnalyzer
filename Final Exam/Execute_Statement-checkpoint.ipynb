{
 "cells": [
  {
   "cell_type": "code",
   "execution_count": 1,
   "id": "7e13d1e2",
   "metadata": {},
   "outputs": [],
   "source": [
    "import re\n",
    "from itertools import repeat\n",
    "dtypes = ['SMALL','MEDIUM','LARGE','GARGANTUAN']\n",
    "\n",
    "tokendic = {\n",
    "    'PLUS': '+',\n",
    "    'MINUS': \"-\",\n",
    "    'MULTIPLY': \"*\",\n",
    "    'DIVIDE': \"/\",\n",
    "    'MOD': \"%\",\n",
    "    'GREATER': \">\",\n",
    "    'GREATERE': \">=\",\n",
    "    'LESS': \"<\",\n",
    "    'LESSE': \"<=\",\n",
    "    'EQUAL': \"==\",\n",
    "    'NOTEQUAL': \"!=\",\n",
    "    'ASSIGN': \"=\", \n",
    "    'LEFTP': \"(\",\n",
    "    'RIGHTP': \")\",\n",
    "    'BRACEL': \"{\",\n",
    "    'BRACER': \"}\",\n",
    "    'START': 'BEGIN',\n",
    "    'FINISH': \"END\",\n",
    "    'CONDITION': \"CONDI\",\n",
    "    'REFRESH': \"REFRESH\"    \n",
    "}"
   ]
  },
  {
   "cell_type": "code",
   "execution_count": 2,
   "id": "fab5be63",
   "metadata": {},
   "outputs": [
    {
     "name": "stdout",
     "output_type": "stream",
     "text": [
      "[['BEGIN'], ['SMALL', 'varOne'], ['varOne', '=', '(', '5', ')'], ['GARGANTUAN', 'varTwo'], ['varTwo', '=', '(', '2', '+', '(', '5', '*', '2', ')', ')', '*', 'varOne'], ['CONDI', '(', 'varOne', '!=', 'varTwo', ')', '{'], ['CONDI', '(', 'varOne', '<=', 'varTwo', ')', '{'], ['varOne', '=', '(', 'varTwo', '*', '2', ')'], ['}', '}'], ['END']]\n"
     ]
    }
   ],
   "source": [
    "##Input##\n",
    "code1 = \"\"\"BEGIN\n",
    "\n",
    "  SMALL varOne\n",
    "  varOne = ( 5 )\n",
    "\n",
    "  GARGANTUAN varTwo\n",
    "  varTwo =  ( 2 +  ( 5 * 2 ) ) * varOne\n",
    "\n",
    "  CONDI ( varOne != varTwo ) {\n",
    "    CONDI ( varOne <= varTwo ) {\n",
    "      varOne = ( varTwo * 2 )\n",
    "    } } \n",
    "    \n",
    "    END\"\"\"\n",
    "code1 = code1.replace(\"\\n\",\"space\") #ability for variable declaration separate from assignment\n",
    "code1 = code1.split(\"space\") # splitting by white space\n",
    "\n",
    "code1 = [x.strip(' ') for x in code1] #Equalizing the spaces\n",
    "code = [] \n",
    "\n",
    "code = [stuff for stuff in code1 if stuff.strip()] #Removing all values with spaces in the list for a means to separate multiple lines of code.\n",
    "\n",
    "for i in range(len(code)):\n",
    "    code[i] = code[i].split()\n",
    "print(code)"
   ]
  },
  {
   "cell_type": "code",
   "execution_count": 3,
   "id": "e14e8b79",
   "metadata": {},
   "outputs": [],
   "source": [
    "def isanum(val):\n",
    "    \n",
    "    for char in val:\n",
    "        if char.isdigit():\n",
    "            return True"
   ]
  },
  {
   "cell_type": "code",
   "execution_count": 4,
   "id": "6cdc52b9",
   "metadata": {},
   "outputs": [],
   "source": [
    "##Creating List of Tokens from Individual Lexemes##\n",
    "token_l = list(repeat([],len(code)))\n",
    "if code == '':\n",
    "    print(\"Empty\")\n",
    "\n",
    "for i in range(len(code)):\n",
    "    token_l[i] = list(repeat([],len(code[i])))\n",
    "    for j in range(len(code[i])):\n",
    "        if code[i][j] in list(tokendic.values()):\n",
    "            index = list(tokendic.values()).index(code[i][j]) #identifying token values\n",
    "            token_l[i][j] = (list(tokendic)[index])\n",
    "\n",
    "        elif re.match('[0-9]',code[i][j]):\n",
    "            token_l[i][j] = ('INTEGER')\n",
    "        elif code[i][j] in dtypes:\n",
    "            token_l[i][j] = ('DTYPE')\n",
    "        elif re.match('[a-zA-Z_]',code[i][j]):\n",
    "            if len(code[i][j]) < 6 or len(code[i][j]) > 8:\n",
    "                print(\"Error: Variable name length\")\n",
    "            if isanum(code[i][j]) == True:\n",
    "                print(\"Error: Variable name cannot contain a number\")\n",
    "            else: \n",
    "                token_l[i][j] = ('VARIABLE')\n",
    "\n",
    "        else:\n",
    "            print(\"NOT A TOKEN\") #Incorrect spacing for example. Useful for test cases\n"
   ]
  },
  {
   "cell_type": "code",
   "execution_count": 5,
   "id": "39e09fc2",
   "metadata": {},
   "outputs": [
    {
     "name": "stdout",
     "output_type": "stream",
     "text": [
      "[['START'], ['DTYPE', 'VARIABLE'], ['VARIABLE', 'ASSIGN', 'LEFTP', 'INTEGER', 'RIGHTP'], ['DTYPE', 'VARIABLE'], ['VARIABLE', 'ASSIGN', 'LEFTP', 'INTEGER', 'PLUS', 'LEFTP', 'INTEGER', 'MULTIPLY', 'INTEGER', 'RIGHTP', 'RIGHTP', 'MULTIPLY', 'VARIABLE'], ['CONDITION', 'LEFTP', 'VARIABLE', 'NOTEQUAL', 'VARIABLE', 'RIGHTP', 'BRACEL'], ['CONDITION', 'LEFTP', 'VARIABLE', 'LESSE', 'VARIABLE', 'RIGHTP', 'BRACEL'], ['VARIABLE', 'ASSIGN', 'LEFTP', 'VARIABLE', 'MULTIPLY', 'INTEGER', 'RIGHTP'], ['BRACER', 'BRACER'], ['FINISH']]\n"
     ]
    }
   ],
   "source": [
    "print(token_l) #list of tokens for input for problem e"
   ]
  },
  {
   "cell_type": "code",
   "execution_count": 6,
   "id": "daa4ffaf",
   "metadata": {},
   "outputs": [],
   "source": [
    "## Checking Declaration Statments: START, FINISH, and DTYPE##\n",
    "def sttest(token_l):   \n",
    "    \n",
    "    if 'START' in token_l[0] and 'FINISH' in  token_l[len(token_l)-1]:\n",
    "        print(\"Statement is valid! :)\")\n",
    "    else:\n",
    "        print(\"Error: Statement needs START and FINISH\")\n",
    "\n",
    "def dtypetest(token_l):\n",
    "    dtype_id = []\n",
    "    for i in range(len(token_l)):\n",
    "        if ('DTYPE' in token_l[i]) and ('VARIABLE' in token_l[i]):\n",
    "            print(token_l[i])\n",
    "            dtype_id.append(i)\n",
    "    print(dtype_id)\n",
    "    \n",
    "def dtypemem(variable):\n",
    "    for i in range(len(dtype_id)):\n",
    "            print(code[dtype_id[i]])\n",
    "            if dtype == 'SMALL':\n",
    "                if (variable) <=  127 and (variable) >= -128:\n",
    "                    print(\"No issues with Datatype Memory! :) \")\n",
    "                else:\n",
    "                    print(\"Error: Datatype Memory issue\")\n",
    "                    \n",
    "            if dtype == 'MEDIUM':\n",
    "                if (variable) <=  32767 and (variable) >= -32768:\n",
    "                    print(\"No issues with Datatype Memory! :) \")\n",
    "                else:\n",
    "                    print(\"Error: Datatype Memory issue\")\n",
    "                    \n",
    "            if dtype == 'LARGE':\n",
    "                if (variable) <=  2147483647 and (variable) >= -2147483648:\n",
    "                    print(\"No issues with Datatype Memory! :) \")\n",
    "                else:\n",
    "                    print(\"Error: Datatype Memory issue\")\n",
    "                    \n",
    "            if dtype == 'GARGANTUAN':\n",
    "                if (variable) <=  9223372036854775808 and (variable) >= -922337236854775808:\n",
    "                    print(\"No issues with Datatype Memory! :) \")\n",
    "                else:\n",
    "                    print(\"Error: Datatype Memory issue\")\n",
    "                "
   ]
  },
  {
   "cell_type": "code",
   "execution_count": 7,
   "id": "564a1229",
   "metadata": {},
   "outputs": [
    {
     "name": "stdout",
     "output_type": "stream",
     "text": [
      "Statement is valid! :)\n"
     ]
    }
   ],
   "source": [
    "sttest(token_l)"
   ]
  },
  {
   "cell_type": "code",
   "execution_count": 8,
   "id": "c810d15c",
   "metadata": {},
   "outputs": [
    {
     "name": "stdout",
     "output_type": "stream",
     "text": [
      "['DTYPE', 'VARIABLE']\n",
      "['DTYPE', 'VARIABLE']\n",
      "[1, 3]\n"
     ]
    }
   ],
   "source": [
    "dtypetest(token_l) #Outputs tokens with Dtype and variable along with the indices for reference as well as the code."
   ]
  },
  {
   "cell_type": "code",
   "execution_count": 25,
   "id": "326509bd",
   "metadata": {},
   "outputs": [],
   "source": [
    "def duplicate(lst,element):\n",
    "    return [i for i, x in enumerate(lst) if x == element]\n",
    "def dup_rem(lst):\n",
    "    return [i for x, i in enumerate(lst) if i not in lst[:x]]"
   ]
  },
  {
   "cell_type": "code",
   "execution_count": 10,
   "id": "d8423463",
   "metadata": {},
   "outputs": [
    {
     "name": "stdout",
     "output_type": "stream",
     "text": [
      "['VARIABLE', 'ASSIGN', 'LEFTP', 'INTEGER', 'RIGHTP']\n",
      "a_ind: 2\n",
      "['VARIABLE', 'ASSIGN', 'LEFTP', 'INTEGER', 'PLUS', 'LEFTP', 'INTEGER', 'MULTIPLY', 'INTEGER', 'RIGHTP', 'RIGHTP', 'MULTIPLY', 'VARIABLE']\n",
      "a_ind: 4\n",
      "duplicate indices: [4]\n",
      "duplicate indices: [9, 10]\n",
      "['CONDITION', 'LEFTP', 'VARIABLE', 'NOTEQUAL', 'VARIABLE', 'RIGHTP', 'BRACEL']\n",
      "c_ind: 5\n",
      "['CONDITION', 'LEFTP', 'VARIABLE', 'LESSE', 'VARIABLE', 'RIGHTP', 'BRACEL']\n",
      "c_ind: 6\n",
      "['VARIABLE', 'ASSIGN', 'LEFTP', 'VARIABLE', 'MULTIPLY', 'INTEGER', 'RIGHTP']\n",
      "a_ind: 7\n"
     ]
    }
   ],
   "source": [
    "##Identifying Parenthesis and Differentating ASSIGN/CONDITIONAL STATEMENTS\n",
    "c_ind = []\n",
    "a_ind = []\n",
    "for i in range(len(token_l)):\n",
    "    \n",
    "    if len(duplicate(token_l[i],'RIGHTP')) == 0:\n",
    "        if 'ASSIGN' in token_l[i]:\n",
    "            print(\"Error: Using Assignment requires parenthesis\")\n",
    "        if 'CONDITION' in token_l[i]:\n",
    "            print(\"Error: Using conditional statement requires parenthesis\")\n",
    "    \n",
    "    \n",
    "    if len(duplicate(token_l[i],'RIGHTP')) > 1:\n",
    "        if 'ASSIGN' in token_l[i]:   \n",
    "            print(token_l[i]) #Print Which token element has the duplicate\n",
    "            a_ind.append(i) \n",
    "            print(\"a_ind:\",i) #which index in token_l[i] has the duplicate\n",
    "            \n",
    "            for j in range(len(a_ind)):\n",
    "                print(\"duplicate indices:\",duplicate(token_l[a_ind[j]],'RIGHTP')) #Print the indices of the duplicates\n",
    "            \n",
    "            \n",
    "        if 'CONDITION' in token_l[i]:\n",
    "            print(token_l[i]) #Print Which token element has the duplicate\n",
    "            c_ind.append(i) \n",
    "            print(\"dup c_ind:\",i) #which index in token_l[i] has the duplicate\n",
    "            for j in range(len(c_ind)):\n",
    "                print(\"duplicate indices:\",duplicate(token_l[c_ind[j]],'RIGHTP')) #Print the indices of the duplicates\n",
    "            \n",
    "    if len(duplicate(token_l[i],'RIGHTP')) == 1:\n",
    "        if 'ASSIGN' in token_l[i]:\n",
    "            a_ind.append(i) \n",
    "            print(token_l[i])\n",
    "            print(\"a_ind:\",i) #which index in token_l[i] has the parenthesis\n",
    "            #print(\"rightp index:\", token_l[a_ind].index('RIGHTP')) #Which index is \"RIGHTP\"\n",
    "        if 'CONDITION' in token_l[i]:\n",
    "            c_ind.append(i)\n",
    "            print(token_l[i])\n",
    "            print(\"c_ind:\",i) #which index in token_l[i] has the parenthesis\n",
    "            #print(\"rightp index:\", token_l[c_ind].index('RIGHTP')) #Which index is \"RIGHTP\"\n",
    "            \n",
    "        \n",
    "            \n",
    "        else:\n",
    "            pass #no parenthesis move to next iteration\n"
   ]
  },
  {
   "cell_type": "code",
   "execution_count": 11,
   "id": "52e5a018",
   "metadata": {},
   "outputs": [
    {
     "data": {
      "text/plain": [
       "[2, 4, 7]"
      ]
     },
     "execution_count": 11,
     "metadata": {},
     "output_type": "execute_result"
    }
   ],
   "source": [
    "##Select which ind from token_l to calculate##\n",
    "#ind = 4 for duplicate (assignment)  5 or 6 for single parenthesis (conditional)\n",
    "\n",
    "a_ind"
   ]
  },
  {
   "cell_type": "code",
   "execution_count": 12,
   "id": "cfcfd29f",
   "metadata": {},
   "outputs": [
    {
     "data": {
      "text/plain": [
       "[['BEGIN'],\n",
       " ['SMALL', 'varOne'],\n",
       " ['varOne', '=', '(', '5', ')'],\n",
       " ['GARGANTUAN', 'varTwo'],\n",
       " ['varTwo', '=', '(', '2', '+', '(', '5', '*', '2', ')', ')', '*', 'varOne'],\n",
       " ['CONDI', '(', 'varOne', '!=', 'varTwo', ')', '{'],\n",
       " ['CONDI', '(', 'varOne', '<=', 'varTwo', ')', '{'],\n",
       " ['varOne', '=', '(', 'varTwo', '*', '2', ')'],\n",
       " ['}', '}'],\n",
       " ['END']]"
      ]
     },
     "execution_count": 12,
     "metadata": {},
     "output_type": "execute_result"
    }
   ],
   "source": [
    "code"
   ]
  },
  {
   "cell_type": "code",
   "execution_count": 15,
   "id": "f702f5f3",
   "metadata": {},
   "outputs": [],
   "source": [
    "#Boolean Statement##\n",
    "\n",
    "def booltest(token_l,c_ind):\n",
    "    if token_l[c_ind][0] == 'CONDITION' and token_l[c_ind][1] == 'LEFTP':\n",
    "        if 'VARIABLE' in token_l[c_ind][2] or 'INTEGER' in token_l[c_ind][2]:\n",
    "            if 'NOTEQUAL' in token_l[c_ind][3] or 'EQUAL' in token_l[c_ind][3] or 'GREATER' in token_l[c_ind][3] or 'GREATERE' in token_l[c_ind][3] or 'LESS' in token_l[c_ind][3] or 'LESSE' in token_l[c_ind][3]:\n",
    "                if 'VARIABLE' in token_l[c_ind][4] or 'INTEGER' in token_l[c_ind][4]:\n",
    "                    if 'RIGHTP' in token_l[c_ind][5]:\n",
    "                        print(\"Boolean Statement is valid! :)\")\n",
    "\n",
    "                    else:\n",
    "                        print(\"Error: Needs a RIGHTP to complete Boolean statement\")\n",
    "                else:\n",
    "                    print(\"Error: Needs VARIABLE or Integer following inequality condition\")\n",
    "            else:\n",
    "                print(\"Error: Needs an inequality condition\")\n",
    "\n",
    "        else:\n",
    "            print(\"Error: Needs VARIABLE or INTEGER following LEFTP\")\n",
    "    else:\n",
    "        print(\"Error: Need a CONDITION then LEFTP statement\")\n",
    "        \n",
    "def cond(token_l,c_ind):\n",
    "    if token_l[c_ind][0] == 'CONDITION' and token_l[c_ind][1] == 'LEFTP':\n",
    "        if 'VARIABLE' in token_l[c_ind][2] or 'INTEGER' in token_l[c_ind][2]:\n",
    "            if 'NOTEQUAL' in token_l[c_ind][3] or 'EQUAL' in token_l[c_ind][3] or 'GREATER' in token_l[c_ind][3] or 'GREATERE' in token_l[c_ind][3] or 'LESS' in token_l[c_ind][3] or 'LESSE' in token_l[c_ind][3]:\n",
    "                if 'VARIABLE' in token_l[c_ind][4] or 'INTEGER' in token_l[c_ind][4]:\n",
    "                    if 'RIGHTP' in token_l[c_ind][5]:\n",
    "                        if 'BRACEL'in token_l[c_ind][6]:\n",
    "                            print(\"conditional statement is correct! :)\")\n",
    "                        else:\n",
    "                            print(\"Error: Needs a BRACEL to to begin expression\")\n",
    "\n",
    "                    else:\n",
    "                        print(\"Error: Needs a RIGHTP to complete Boolean statement\")\n",
    "                else:\n",
    "                    print(\"Error: Needs VARIABLE or Integer following inequality condition\")\n",
    "            else:\n",
    "                print(\"Error: Needs an inequality condition\")\n",
    "\n",
    "        else:\n",
    "            print(\"Error: Needs VARIABLE or INTEGER following LEFTP\")\n",
    "    else:\n",
    "        print(\"Error: Need a CONDITION then LEFTP statement\")\n"
   ]
  },
  {
   "cell_type": "code",
   "execution_count": 16,
   "id": "73fd7f5f",
   "metadata": {},
   "outputs": [],
   "source": [
    "##Condition Call##\n",
    "def condition(c_ind):\n",
    "    if len(c_ind) > 0: #there is a conditon\n",
    "        for i in range(len(c_ind)):\n",
    "            if 'CONDITION' in token_l[c_ind[i]]:\n",
    "                print(cond(token_l,c_ind[i]))\n",
    "    else:\n",
    "        print(\"No conditional statements in statement\")"
   ]
  },
  {
   "cell_type": "code",
   "execution_count": 17,
   "id": "327454d5",
   "metadata": {},
   "outputs": [
    {
     "name": "stdout",
     "output_type": "stream",
     "text": [
      "conditional statement is correct! :)\n",
      "None\n",
      "conditional statement is correct! :)\n",
      "None\n"
     ]
    }
   ],
   "source": [
    "condition(c_ind)"
   ]
  },
  {
   "cell_type": "code",
   "execution_count": 45,
   "id": "601d267a",
   "metadata": {},
   "outputs": [],
   "source": [
    "def assign(a_ind):\n",
    "    if len(a_ind) > 0: #there is atleast 1 assignment\n",
    "        for i in range(len(a_ind)):\n",
    "            if 'ASSIGN' in token_l[a_ind[i]]:\n",
    "                print(\"ASSIGN found in index\",a_ind[i],\"and outputs\",expression(token_l,a_ind[i]))\n",
    "            else:\n",
    "                print(\"No assignment in statement\")"
   ]
  },
  {
   "cell_type": "code",
   "execution_count": 46,
   "id": "471e2897",
   "metadata": {},
   "outputs": [
    {
     "name": "stdout",
     "output_type": "stream",
     "text": [
      "ASSIGN found in index 2 and outputs ['INTEGER']\n",
      "ASSIGN found in index 4 and outputs ['INTEGER', 'INTEGER', 'MULTIPLY', 'INTEGER', 'PLUS', 'VARIABLE', 'MULTIPLY']\n",
      "ASSIGN found in index 7 and outputs ['VARIABLE', 'INTEGER', 'MULTIPLY']\n"
     ]
    }
   ],
   "source": [
    "assign(a_ind) #outputs shunting yard algorithm "
   ]
  },
  {
   "cell_type": "code",
   "execution_count": 41,
   "id": "9499c583",
   "metadata": {},
   "outputs": [],
   "source": [
    "#PMASMD - 6 levels of precedence## Parenthesis, Mod, Addition, Subtraction, Multiplication, Divide\n",
    "def expression(token_l,ind):\n",
    "    order = [] #Should output postfix notation\n",
    "    key = []\n",
    "    output = []\n",
    "    ass_ind = token_l[ind].index('ASSIGN')\n",
    "    token_len = len(token_l[ind])\n",
    "    token_c = token_l[ind][ass_ind+1:token_len]\n",
    "    total = token_c.count('INTEGER') + token_c.count('VARIABLE') + token_c.count('MOD')+ token_c.count('PLUS')+ token_c.count('MINUS')+ token_c.count('MULTIPLY')+ token_c.count('DIVIDE') #necessary total in order minues the order of operations\n",
    "    dupli = duplicate(token_l[ind],'RIGHTP') #Finding the indices for duplicate right parenthesis\n",
    "    ldupli = duplicate(token_l[ind],'LEFTP')\n",
    "    ldupli.reverse() #Reversing the list to start with the rightmost left parenthesis\n",
    "\n",
    "    #paren = token_l[token_l.index('LEFTP'):token_l.index('RIGHTP')+1] #Identify between two parenthesis\n",
    "    #LP_ind = token_l[ind].index('LEFTP')\n",
    "    #RP_ind = token_l[ind].index('RIGHTP')\n",
    "    \n",
    "    for i in range(len(dupli)):\n",
    "       \n",
    "        if len(dupli) >= 1: #Look for any parenthesis\n",
    "\n",
    "            k = ldupli[i] + 1 # Find the right-most left parenthesis as starting point then add one to search until right paren\n",
    "            while k < dupli[i]: #Adding the tokens before the ith right parenthesis\n",
    "\n",
    "                if (token_l[ind][k] == 'INTEGER') or (token_l[ind][k] == 'VARIABLE'):\n",
    "                    if (ldupli[i] < k) and (dupli[i] > k):\n",
    "                        order.append(token_l[ind][k])\n",
    "                        key.append(k)\n",
    "                        k += 1\n",
    "                    else:\n",
    "                        break\n",
    "                if  k == dupli[i]:\n",
    "                    continue\n",
    "                else:\n",
    "                    k+=1\n",
    "\n",
    "\n",
    "            k = ldupli[i] + 1    #index of after lP\n",
    "            while k < dupli[i]:         \n",
    "                if (token_l[ind][k] == 'MOD'):\n",
    "                    if (ldupli[i] < k) and (dupli[i] > k):\n",
    "                        order.append(token_l[ind][k])\n",
    "                        key.append(k)\n",
    "                        k += 1\n",
    "                    else:\n",
    "                        break \n",
    "                if  k == dupli[i]:\n",
    "                    break\n",
    "                else:\n",
    "                    k+=1\n",
    "\n",
    "            k = ldupli[i] + 1    #index of ASSIGN + 1 to start after ASSIGN\n",
    "            while k < dupli[i]:\n",
    "                if (token_l[ind][k] == 'PLUS'):\n",
    "                    if (ldupli[i] < k) and (dupli[i] > k):\n",
    "                        order.append(token_l[ind][k])\n",
    "                        key.append(k)\n",
    "                        k += 1\n",
    "                    else:\n",
    "                        break\n",
    "                if  k == dupli[i]:\n",
    "                    break\n",
    "                else:\n",
    "                    k+=1\n",
    "            k = ldupli[i] + 1   #index of ASSIGN + 1 to start after ASSIGN\n",
    "            while k < dupli[i]:     \n",
    "                if (token_l[ind][k] == 'MINUS'):\n",
    "                    if (ldupli[i] < k) and (dupli[i] > k):\n",
    "                        order.append(token_l[ind][k])\n",
    "                        key.append(k)\n",
    "                        k += 1\n",
    "                    else:\n",
    "                        break\n",
    "                if  k == dupli[i]:\n",
    "                    break\n",
    "                else:\n",
    "                    k+=1\n",
    "            k = ldupli[i] + 1    #index of ASSIGN + 1 to start after ASSIGN\n",
    "            while k < dupli[i]:\n",
    "                if (token_l[ind][k] == 'MULTIPLY'):\n",
    "                    if (ldupli[i] < k) and (dupli[i] > k):\n",
    "                        order.append(token_l[ind][k])\n",
    "                        key.append(k)\n",
    "                        k += 1\n",
    "                    else:\n",
    "                        break\n",
    "                if  k == dupli[i]:\n",
    "                    break\n",
    "                else:\n",
    "                    k+=1\n",
    "            k = ldupli[i] + 1   #index of ASSIGN + 1 to start after ASSIGN\n",
    "            while k < dupli[i]:\n",
    "                if (token_l[ind][k] == 'DIVIDE'):\n",
    "                    if (ldupli[i] < k) and (dupli[i] > k):\n",
    "                        order.append(token_l[ind][k])\n",
    "                        key.append(k)\n",
    "                        k += 1\n",
    "                    else:\n",
    "                        break\n",
    "                if  k == dupli[i]:\n",
    "                    break\n",
    "                else:\n",
    "                    k+=1\n",
    "                          \n",
    "        \n",
    "    key = dup_rem(key)  \n",
    "\n",
    "    for i in range(len(key)):\n",
    "        output.append(token_l[ind][key[i]])\n",
    "\n",
    "        \n",
    "    ##END OF PARENTHESIS SEARCH: BELOW IS FOR NON PARENTHESIS SEARCH##  \n",
    "    \n",
    "    if (len(dupli) == 0) or (len(output) != total):        \n",
    "        token_d = token_l[ind][0:token_l[ind].index('LEFTP')] + token_l[ind][token_l[ind].index('RIGHTP')+1:len(token_l[ind])] #Removing Parenthesis\n",
    "        k = token_d.index('ASSIGN') + 1    #index of ASSIGN + 1 to start after ASSIGN\n",
    "        while k < len(token_d): #Adding the tokens before the ith right parenthesis\n",
    "\n",
    "            if token_d[k] == 'INTEGER' or token_d[k] == 'VARIABLE': #After parenthesis, integer and variable first\n",
    "                output.append(token_d[k])\n",
    "                k += 1\n",
    "\n",
    "            elif k == len(token_d):\n",
    "                break\n",
    "            else:\n",
    "                k+=1\n",
    "\n",
    "\n",
    "\n",
    "        k = token_d.index('ASSIGN') + 1 #Mod\n",
    "        while k < len(token_d): \n",
    "            if token_d[k] == 'MOD':\n",
    "                output.append('MOD')\n",
    "                k+=1\n",
    "\n",
    "            if k == len(token_d):\n",
    "                break\n",
    "            else:\n",
    "                k+=1\n",
    "\n",
    "        k = token_d.index('ASSIGN') + 1 #PLus\n",
    "        while k < len(token_d): \n",
    "            if token_d[k] == 'PLUS':\n",
    "                output.append('PLUS')\n",
    "                k+=1\n",
    "\n",
    "            if k == len(token_d):\n",
    "                break\n",
    "            else:\n",
    "                k+=1\n",
    "\n",
    "\n",
    "        k = token_d.index('ASSIGN') + 1 #Minus\n",
    "        while k < len(token_d): \n",
    "            if token_d[k] == 'MINUS':\n",
    "                output.append('MINUS')\n",
    "                k+=1\n",
    "\n",
    "            if k == len(token_d):\n",
    "                break\n",
    "            else:\n",
    "                k+=1   \n",
    "\n",
    "        k = token_d.index('ASSIGN') + 1 #Multiply\n",
    "        while k < len(token_d): \n",
    "            if token_d[k] == 'MULTIPLY':\n",
    "                output.append('MULTIPLY')\n",
    "                k+=1\n",
    "\n",
    "            if k == len(token_d):\n",
    "                break\n",
    "            else:\n",
    "                k+=1\n",
    "\n",
    "        k = token_d.index('ASSIGN') + 1 #Divide\n",
    "        while k < len(token_d): \n",
    "            if token_d[k] == 'DIVIDE':\n",
    "                output.append('DIVIDE')\n",
    "                k+=1\n",
    "\n",
    "            if k == len(token_d):\n",
    "                break\n",
    "            else:\n",
    "                k+=1\n",
    "\n",
    "    ####END OF NON-PARENTHESIS SEARCH#####\n",
    "    return output\n"
   ]
  },
  {
   "cell_type": "code",
   "execution_count": 44,
   "id": "d8866547",
   "metadata": {},
   "outputs": [
    {
     "data": {
      "text/plain": [
       "['VARIABLE', 'INTEGER', 'MULTIPLY']"
      ]
     },
     "execution_count": 44,
     "metadata": {},
     "output_type": "execute_result"
    }
   ],
   "source": [
    "expression(token_l,7)"
   ]
  }
 ],
 "metadata": {
  "kernelspec": {
   "display_name": "Python 3 (ipykernel)",
   "language": "python",
   "name": "python3"
  },
  "language_info": {
   "codemirror_mode": {
    "name": "ipython",
    "version": 3
   },
   "file_extension": ".py",
   "mimetype": "text/x-python",
   "name": "python",
   "nbconvert_exporter": "python",
   "pygments_lexer": "ipython3",
   "version": "3.10.8"
  }
 },
 "nbformat": 4,
 "nbformat_minor": 5
}
