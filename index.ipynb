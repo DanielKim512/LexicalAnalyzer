{
 "cells": [
  {
   "cell_type": "code",
   "execution_count": null,
   "id": "bb321407",
   "metadata": {},
   "outputs": [],
   "source": [
    "import Stack\n",
    "import Statement\n",
    "import os\n",
    "import re\n",
    "\n",
    "def main():\n",
    "    # filename = \"test.slang\"\n",
    "    filepath = os.path.realpath(filename)\n",
    "    exceCode = open(filepath,\"r\").trim().replace(\"\\n\", \" \").replace(re.match(r'\\s+', re))\n",
    "    result = \"\"\n",
    "    statement = \"\"\n",
    "    Statement.statement(statement)\n",
    "    print(Stack.stack)"
   ]
  }
 ],
 "metadata": {
  "kernelspec": {
   "display_name": "Python 3 (ipykernel)",
   "language": "python",
   "name": "python3"
  },
  "language_info": {
   "codemirror_mode": {
    "name": "ipython",
    "version": 3
   },
   "file_extension": ".py",
   "mimetype": "text/x-python",
   "name": "python",
   "nbconvert_exporter": "python",
   "pygments_lexer": "ipython3",
   "version": "3.10.8"
  }
 },
 "nbformat": 4,
 "nbformat_minor": 5
}
