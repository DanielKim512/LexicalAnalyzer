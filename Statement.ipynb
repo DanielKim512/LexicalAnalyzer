{
 "cells": [
  {
   "cell_type": "code",
   "execution_count": null,
   "id": "7e13d1e2",
   "metadata": {},
   "outputs": [],
   "source": [
    "import Stack\n",
    "from misc import DataTypes\n",
    "from misc import Tokens\n",
    "from Statements import Declaration\n",
    "from Statements import Assign\n",
    "from Statements import Condition\n",
    "from Statements import Loop\n",
    "import re\n",
    "\n",
    "def statement(statement):\n",
    "    statement = statement.trim()\n",
    "\n",
    "    if not statement:\n",
    "        return\n",
    "    \n",
    "    regex_intialWord = re.match(r'^[a-zA-Z]* ', statement, re.M|re.I)\n",
    "\n",
    "    if not regex_intialWord:\n",
    "        raise Exception(\"Invalid Syntax\")\n",
    "    \n",
    "    initalWord = regex_intialWord[0].trim()\n",
    "\n",
    "    if initalWord in DataTypes.datatypes :\n",
    "        Declaration.declaration(statement)\n",
    "\n",
    "    elif initalWord == Tokens.RERUN:\n",
    "        Loop.loop(statement)\n",
    "\n",
    "    elif initalWord == Tokens.COND:\n",
    "        Condition.condition(statement)\n",
    "\n",
    "    elif Stack.stack[initalWord] == None:\n",
    "        Assign.assign(statement)\n",
    "        \n",
    "    else:\n",
    "        raise Exception(f'{initalWord} is not defined')"
   ]
  },
  {
   "cell_type": "code",
   "execution_count": null,
   "id": "fab5be63",
   "metadata": {},
   "outputs": [],
   "source": []
  }
 ],
 "metadata": {
  "kernelspec": {
   "display_name": "Python 3 (ipykernel)",
   "language": "python",
   "name": "python3"
  },
  "language_info": {
   "codemirror_mode": {
    "name": "ipython",
    "version": 3
   },
   "file_extension": ".py",
   "mimetype": "text/x-python",
   "name": "python",
   "nbconvert_exporter": "python",
   "pygments_lexer": "ipython3",
   "version": "3.10.8"
  }
 },
 "nbformat": 4,
 "nbformat_minor": 5
}
