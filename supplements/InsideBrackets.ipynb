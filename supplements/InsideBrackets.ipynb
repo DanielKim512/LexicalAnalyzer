{
 "cells": [
  {
   "cell_type": "code",
   "execution_count": null,
   "id": "1ddd7b0f",
   "metadata": {},
   "outputs": [],
   "source": [
    "def insideBrackets(statement, startBracket, endBracket):\n",
    "\n",
    "    bracketCounter = 1\n",
    "    currentIndex = 1\n",
    "\n",
    "    while bracketCounter > 0 :\n",
    "        if statement[currentIndex] == startBracket:\n",
    "            bracketCounter += 1\n",
    "        elif statement[currentIndex] == endBracket:\n",
    "            bracketCounter -= 1\n",
    "\n",
    "        currentIndex += 1\n",
    "    \n",
    "    return [statement.substring(1,currentIndex-1), statement.substring(currentIndex)]"
   ]
  }
 ],
 "metadata": {
  "kernelspec": {
   "display_name": "Python 3 (ipykernel)",
   "language": "python",
   "name": "python3"
  },
  "language_info": {
   "codemirror_mode": {
    "name": "ipython",
    "version": 3
   },
   "file_extension": ".py",
   "mimetype": "text/x-python",
   "name": "python",
   "nbconvert_exporter": "python",
   "pygments_lexer": "ipython3",
   "version": "3.10.8"
  }
 },
 "nbformat": 4,
 "nbformat_minor": 5
}
