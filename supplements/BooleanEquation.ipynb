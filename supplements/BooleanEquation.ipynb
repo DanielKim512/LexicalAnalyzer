{
 "cells": [
  {
   "cell_type": "code",
   "execution_count": null,
   "id": "d43c7d2b",
   "metadata": {},
   "outputs": [],
   "source": [
    "import Expression\n",
    "import Tokens\n",
    "\n",
    "def booleanEquation(equation):\n",
    "\n",
    "    operators = [Tokens.GT, Tokens.LT, Tokens.GTE, Tokens.LTE, Tokens.EQ, Tokens.NE]\n",
    "\n",
    "    for i in range(0, len(operators)):\n",
    "        hasToken = \"{}\".format(operators[i]) in equation\n",
    "\n",
    "        if not hasToken:\n",
    "            continue\n",
    "\n",
    "        expression1, expression2 = equation.split(\"{}\".format(operators[i]))\n",
    "\n",
    "\n",
    "        value1 = Expression.expression(expression1)\n",
    "        value2 = Expression.expression(expression2)\n",
    "\n",
    "        token = operators[i]\n",
    "\n",
    "        if token == operators[0]:\n",
    "            return value1 < value2\n",
    "        \n",
    "        if token == operators[1]:\n",
    "            return value1 <= value2\n",
    "        \n",
    "        if token == operators[2]:\n",
    "            return value1 > value2\n",
    "        \n",
    "        if token == operators[3]:\n",
    "            return value1 >= value2\n",
    "        \n",
    "        if token == operators[4]:\n",
    "            return value1 == value2\n",
    "        \n",
    "        if token == operators[5]:\n",
    "            return value1 != value2\n",
    "    \n",
    "    raise Exception(\"Invalid boolean expression\")"
   ]
  }
 ],
 "metadata": {
  "kernelspec": {
   "display_name": "Python 3 (ipykernel)",
   "language": "python",
   "name": "python3"
  },
  "language_info": {
   "codemirror_mode": {
    "name": "ipython",
    "version": 3
   },
   "file_extension": ".py",
   "mimetype": "text/x-python",
   "name": "python",
   "nbconvert_exporter": "python",
   "pygments_lexer": "ipython3",
   "version": "3.10.8"
  }
 },
 "nbformat": 4,
 "nbformat_minor": 5
}
