{
 "cells": [
  {
   "cell_type": "code",
   "execution_count": 23,
   "id": "56363d48",
   "metadata": {},
   "outputs": [
    {
     "ename": "ModuleNotFoundError",
     "evalue": "No module named 'Stack'",
     "output_type": "error",
     "traceback": [
      "\u001b[1;31m---------------------------------------------------------------------------\u001b[0m",
      "\u001b[1;31mModuleNotFoundError\u001b[0m                       Traceback (most recent call last)",
      "Input \u001b[1;32mIn [23]\u001b[0m, in \u001b[0;36m<module>\u001b[1;34m\u001b[0m\n\u001b[0;32m      1\u001b[0m \u001b[38;5;28;01mimport\u001b[39;00m \u001b[38;5;21;01mre\u001b[39;00m\n\u001b[1;32m----> 2\u001b[0m \u001b[38;5;28;01mimport\u001b[39;00m \u001b[38;5;21;01mStack\u001b[39;00m\n\u001b[0;32m      3\u001b[0m \u001b[38;5;28;01mfrom\u001b[39;00m \u001b[38;5;21;01mmisc\u001b[39;00m \u001b[38;5;28;01mimport\u001b[39;00m Tokens\n\u001b[0;32m      4\u001b[0m \u001b[38;5;28;01mfrom\u001b[39;00m \u001b[38;5;21;01mmisc\u001b[39;00m \u001b[38;5;28;01mimport\u001b[39;00m Expression\n",
      "\u001b[1;31mModuleNotFoundError\u001b[0m: No module named 'Stack'"
     ]
    }
   ],
   "source": [
    "import re\n",
    "import Stack\n",
    "from misc import Tokens\n",
    "from misc import Expression\n",
    "from misc import InsideBrackets\n",
    "from misc import BooleanEquation\n",
    "import Statement\n",
    "        \n",
    "def assigment(statement):\n",
    "    regexmatch = re.match(r'([^;]+);(.*)', statement, re.MULTILINE|re.IGNORECASE)\n",
    "    assignmentStatement, restStatement = regexmatch\n",
    "\n",
    "    variable, expression = assignmentStatement.split(Tokens.ASSIGNMENT)\n",
    "\n",
    "    variable = variable.trim()\n",
    "    expression = expression.trim()\n",
    "\n",
    "    Stack.stack[variable][1] = Expression.expression(expression)\n",
    "    Statement.statement(restStatement.trim())\n",
    "    \n",
    "def condition(statement):\n",
    "    statement = statement.replace(\"cond\", \"\")\n",
    "\n",
    "    [booleanStatement, restStatement] = InsideBrackets.insideBrackets(statement, Tokens.OPEN, Tokens.CLOSE)\n",
    "    [insideStatement, restStatement] = InsideBrackets.insideBrackets(restStatement.trim(), Tokens.CODEBLOCKSTART, Tokens.CODEBLOCKEND)\n",
    "\n",
    "    if BooleanEquation(booleanStatement):\n",
    "        Statement.statement(insideStatement)\n",
    "\n",
    "    Statement.statement(restStatement)\n",
    "    \n",
    "def declaration(statement):\n",
    "    rmatch = re.match(r'([^;]+);(.*)', statement, re.M|re.I)\n",
    "    declarationStatement, restStatement = rmatch\n",
    "\n",
    "    vType, variable = declarationStatement.split(\" \")\n",
    "\n",
    "    vType = vType.trim()\n",
    "    variable = variable.trim()\n",
    "\n",
    "    if Stack.stack[variable] != None:\n",
    "        raise Exception(\"{} is already present\".format(variable))\n",
    "\n",
    "    Stack.stack[variable] = [vType, None]\n",
    "    Statement.statement(restStatement.trim())\n",
    "    \n",
    "def loop(statement):\n",
    "    statement = statement.replace(\"rerun\", \"\").trim()\n",
    "\n",
    "    [booleanEquation, restStatement] = InsideBrackets.insideBrackets(statement, Tokens.OPEN, Tokens.CLOSE)\n",
    "    [ifStatement, restStatement] = InsideBrackets.insideBrackets(restStatement.trim(), Tokens.CODEBLOCKSTART, Tokens.CODEBLOCKEND)\n",
    "\n",
    "    while True:\n",
    "        if BooleanEquation.booleanEquation(booleanEquation):\n",
    "            Statement.statement(ifStatement)\n",
    "        else:\n",
    "            break\n",
    "    \n",
    "    Statement.statement(restStatement)"
   ]
  },
  {
   "cell_type": "code",
   "execution_count": 20,
   "id": "d04fd86f",
   "metadata": {},
   "outputs": [],
   "source": []
  },
  {
   "cell_type": "code",
   "execution_count": null,
   "id": "bb088a67",
   "metadata": {},
   "outputs": [],
   "source": []
  },
  {
   "cell_type": "code",
   "execution_count": null,
   "id": "7fbe2c9b",
   "metadata": {},
   "outputs": [],
   "source": []
  }
 ],
 "metadata": {
  "kernelspec": {
   "display_name": "Python 3 (ipykernel)",
   "language": "python",
   "name": "python3"
  },
  "language_info": {
   "codemirror_mode": {
    "name": "ipython",
    "version": 3
   },
   "file_extension": ".py",
   "mimetype": "text/x-python",
   "name": "python",
   "nbconvert_exporter": "python",
   "pygments_lexer": "ipython3",
   "version": "3.10.8"
  }
 },
 "nbformat": 4,
 "nbformat_minor": 5
}
